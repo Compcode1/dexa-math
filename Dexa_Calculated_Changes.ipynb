{
 "cells": [
  {
   "cell_type": "markdown",
   "metadata": {},
   "source": [
    "#### **Introduction**\n",
    "\n",
    "\n",
    "This small program takes basic DEXA scan variables as input along with a weight loss or gain forecast and a related percentage fat distribution for this gain or loss, and then outputs a resulting new body fat percentage. This basic calculator will be used for further DEXA variable exploration and expanded programs. Projections of this type are valuable in dietary and exercise formulations aimed at body fat considerations. This program leverages user input validation, mathematical calculations, structured program flow, and modular design to provide a basic calculator for projecting changes in body fat percentage based on DEXA scan data and weight changes. It serves as a foundational tool for further exploration and expansion in the context of dietary and exercise planning."
   ]
  },
  {
   "cell_type": "code",
   "execution_count": 1,
   "metadata": {},
   "outputs": [
    {
     "name": "stdout",
     "output_type": "stream",
     "text": [
      "\n",
      "Your body fat percentage on the DEXA Scan was: 17.99%\n",
      "Formula: 31.7 (fat tissue) / 176.2 (total mass) * 100\n",
      "\n",
      "With 10.0 pounds lost at 75.00% fat, your new body fat percentage will be: 14.56%\n",
      "Formula: 24.2 (new fat tissue) / 166.2 (new total mass) * 100\n"
     ]
    }
   ],
   "source": [
    "def get_dexa_input(prompt):\n",
    "    while True:\n",
    "        try:\n",
    "            value = float(input(prompt))\n",
    "            if value < 0:\n",
    "                raise ValueError(\"Value must be non-negative.\")\n",
    "            return value\n",
    "        except ValueError as e:\n",
    "            print(f\"Invalid input: {e}\")\n",
    "\n",
    "def get_weight_change(prompt):\n",
    "    while True:\n",
    "        try:\n",
    "            value = float(input(prompt))\n",
    "            return value\n",
    "        except ValueError as e:\n",
    "            print(f\"Invalid input: {e}\")\n",
    "\n",
    "def get_percentage(prompt):\n",
    "    while True:\n",
    "        try:\n",
    "            value = float(input(prompt))\n",
    "            if not (0 <= value <= 100):\n",
    "                raise ValueError(\"Percentage must be between 0 and 100.\")\n",
    "            return value / 100  # Convert to decimal\n",
    "        except ValueError as e:\n",
    "            print(f\"Invalid input: {e}\")\n",
    "\n",
    "def calculate_body_fat_percentage(fat_tissue, total_mass):\n",
    "    return (fat_tissue / total_mass) * 100\n",
    "\n",
    "def calculate_new_body_composition(total_mass, fat_tissue, lean_tissue, weight_change, fat_percentage):\n",
    "    fat_change = weight_change * fat_percentage\n",
    "    lean_change = weight_change * (1 - fat_percentage)\n",
    "\n",
    "    new_fat_tissue = fat_tissue + fat_change\n",
    "    new_lean_tissue = lean_tissue + lean_change\n",
    "    new_total_mass = total_mass + weight_change\n",
    "\n",
    "    return new_total_mass, new_fat_tissue, new_lean_tissue\n",
    "\n",
    "def main():\n",
    "    total_mass = get_dexa_input(\"Please enter Total Mass (in pounds) from DEXA Scan: \")\n",
    "    fat_tissue = get_dexa_input(\"Please enter Fat Tissue (in pounds) from DEXA Scan: \")\n",
    "    lean_tissue = get_dexa_input(\"Please enter Lean Tissue (in pounds) from DEXA Scan: \")\n",
    "    \n",
    "    weight_change = get_weight_change(\"Please enter the number of pounds of weight gain or loss (+ for gain, - for loss): \")\n",
    "    fat_percentage = get_percentage(\"Please enter the percentage of the weight change that will be fat: \")\n",
    "\n",
    "    initial_body_fat_percentage = calculate_body_fat_percentage(fat_tissue, total_mass)\n",
    "    \n",
    "    new_total_mass, new_fat_tissue, new_lean_tissue = calculate_new_body_composition(total_mass, fat_tissue, lean_tissue, weight_change, fat_percentage)\n",
    "    new_body_fat_percentage = calculate_body_fat_percentage(new_fat_tissue, new_total_mass)\n",
    "\n",
    "    print(f\"\\nYour body fat percentage on the DEXA Scan was: {initial_body_fat_percentage:.2f}%\")\n",
    "    print(f\"Formula: {fat_tissue} (fat tissue) / {total_mass} (total mass) * 100\")\n",
    "    \n",
    "    if weight_change >= 0:\n",
    "        change_type = \"gained\"\n",
    "    else:\n",
    "        change_type = \"lost\"\n",
    "        \n",
    "    print(f\"\\nWith {abs(weight_change)} pounds {change_type} at {fat_percentage*100:.2f}% fat, your new body fat percentage will be: {new_body_fat_percentage:.2f}%\")\n",
    "    print(f\"Formula: {new_fat_tissue} (new fat tissue) / {new_total_mass} (new total mass) * 100\")\n",
    "\n",
    "# Run the program\n",
    "main()\n"
   ]
  }
 ],
 "metadata": {
  "kernelspec": {
   "display_name": "Python 3",
   "language": "python",
   "name": "python3"
  },
  "language_info": {
   "codemirror_mode": {
    "name": "ipython",
    "version": 3
   },
   "file_extension": ".py",
   "mimetype": "text/x-python",
   "name": "python",
   "nbconvert_exporter": "python",
   "pygments_lexer": "ipython3",
   "version": "3.12.3"
  }
 },
 "nbformat": 4,
 "nbformat_minor": 2
}
